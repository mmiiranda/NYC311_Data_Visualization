{
  "cells": [
    {
      "cell_type": "markdown",
      "metadata": {
        "id": "crn9qidYd-3l"
      },
      "source": [
        "## Introdução\n",
        "\n",
        "\n"
      ]
    },
    {
      "cell_type": "markdown",
      "metadata": {
        "id": "aSzADPjYbsor"
      },
      "source": [
        "O City of New York é uma plataforma de dados abertos que centraliza informações sobre serviços e atividades na cidade de Nova Iorque, incluindo o amplo conjunto de reclamações feito por cidadãos por meio do sistema 311. Para este projeto, definiu-se como objetivo comparar os 10 mil primeiros e os 10 mil últimos registros disponíveis, a fim de verificar possíveis diferenças entre as reclamações ocorridas em um período inicial e em um período recente. Dessa maneira, torna-se viável observar como o perfil das reclamações pode ter se transformado ao longo do tempo."
      ]
    },
    {
      "cell_type": "markdown",
      "metadata": {
        "id": "Y3zSk9zTvnIB"
      },
      "source": [
        "## 1. Coleta de dados\n"
      ]
    },
    {
      "cell_type": "markdown",
      "metadata": {
        "id": "ihd3HanNbz_1"
      },
      "source": [
        "Neste trabalho, a etapa de obtenção dos dados foi bastante complicada, não em relação à codificação em si, mas sim ao método de acesso às informações. Não foi possível realizar o download dos dados no site oficial, de modo que se optou por empregar requisições à API do City of New York. Contudo, essa API impõe uma limitação que disponibiliza apenas mil registros por requisição. Para contornar essa restrição, desenvolveu-se uma função de coleta, capaz de fazer múltiplas chamadas e agregar os resultados em um único DataFrame."
      ]
    },
    {
      "cell_type": "markdown",
      "metadata": {
        "id": "dcd0O_ezWOeO"
      },
      "source": [
        "### Importando libs necessárias"
      ]
    },
    {
      "cell_type": "code",
      "execution_count": null,
      "metadata": {
        "colab": {
          "base_uri": "https://localhost:8080/"
        },
        "id": "L-Ua5CgdWNUy",
        "outputId": "a17a1426-0816-4867-918b-871e83341878"
      },
      "outputs": [
        {
          "name": "stdout",
          "output_type": "stream",
          "text": [
            "Requirement already satisfied: ipywidgets in /usr/local/lib/python3.11/dist-packages (7.7.1)\n",
            "Requirement already satisfied: plotly in /usr/local/lib/python3.11/dist-packages (5.24.1)\n",
            "Requirement already satisfied: ipykernel>=4.5.1 in /usr/local/lib/python3.11/dist-packages (from ipywidgets) (6.17.1)\n",
            "Requirement already satisfied: ipython-genutils~=0.2.0 in /usr/local/lib/python3.11/dist-packages (from ipywidgets) (0.2.0)\n",
            "Requirement already satisfied: traitlets>=4.3.1 in /usr/local/lib/python3.11/dist-packages (from ipywidgets) (5.7.1)\n",
            "Requirement already satisfied: widgetsnbextension~=3.6.0 in /usr/local/lib/python3.11/dist-packages (from ipywidgets) (3.6.10)\n",
            "Requirement already satisfied: ipython>=4.0.0 in /usr/local/lib/python3.11/dist-packages (from ipywidgets) (7.34.0)\n",
            "Requirement already satisfied: jupyterlab-widgets>=1.0.0 in /usr/local/lib/python3.11/dist-packages (from ipywidgets) (3.0.13)\n",
            "Requirement already satisfied: tenacity>=6.2.0 in /usr/local/lib/python3.11/dist-packages (from plotly) (9.0.0)\n",
            "Requirement already satisfied: packaging in /usr/local/lib/python3.11/dist-packages (from plotly) (24.2)\n",
            "Requirement already satisfied: debugpy>=1.0 in /usr/local/lib/python3.11/dist-packages (from ipykernel>=4.5.1->ipywidgets) (1.8.0)\n",
            "Requirement already satisfied: jupyter-client>=6.1.12 in /usr/local/lib/python3.11/dist-packages (from ipykernel>=4.5.1->ipywidgets) (6.1.12)\n",
            "Requirement already satisfied: matplotlib-inline>=0.1 in /usr/local/lib/python3.11/dist-packages (from ipykernel>=4.5.1->ipywidgets) (0.1.7)\n",
            "Requirement already satisfied: nest-asyncio in /usr/local/lib/python3.11/dist-packages (from ipykernel>=4.5.1->ipywidgets) (1.6.0)\n",
            "Requirement already satisfied: psutil in /usr/local/lib/python3.11/dist-packages (from ipykernel>=4.5.1->ipywidgets) (5.9.5)\n",
            "Requirement already satisfied: pyzmq>=17 in /usr/local/lib/python3.11/dist-packages (from ipykernel>=4.5.1->ipywidgets) (24.0.1)\n",
            "Requirement already satisfied: tornado>=6.1 in /usr/local/lib/python3.11/dist-packages (from ipykernel>=4.5.1->ipywidgets) (6.4.2)\n",
            "Requirement already satisfied: setuptools>=18.5 in /usr/local/lib/python3.11/dist-packages (from ipython>=4.0.0->ipywidgets) (75.1.0)\n",
            "Requirement already satisfied: jedi>=0.16 in /usr/local/lib/python3.11/dist-packages (from ipython>=4.0.0->ipywidgets) (0.19.2)\n",
            "Requirement already satisfied: decorator in /usr/local/lib/python3.11/dist-packages (from ipython>=4.0.0->ipywidgets) (4.4.2)\n",
            "Requirement already satisfied: pickleshare in /usr/local/lib/python3.11/dist-packages (from ipython>=4.0.0->ipywidgets) (0.7.5)\n",
            "Requirement already satisfied: prompt-toolkit!=3.0.0,!=3.0.1,<3.1.0,>=2.0.0 in /usr/local/lib/python3.11/dist-packages (from ipython>=4.0.0->ipywidgets) (3.0.50)\n",
            "Requirement already satisfied: pygments in /usr/local/lib/python3.11/dist-packages (from ipython>=4.0.0->ipywidgets) (2.18.0)\n",
            "Requirement already satisfied: backcall in /usr/local/lib/python3.11/dist-packages (from ipython>=4.0.0->ipywidgets) (0.2.0)\n",
            "Requirement already satisfied: pexpect>4.3 in /usr/local/lib/python3.11/dist-packages (from ipython>=4.0.0->ipywidgets) (4.9.0)\n",
            "Requirement already satisfied: notebook>=4.4.1 in /usr/local/lib/python3.11/dist-packages (from widgetsnbextension~=3.6.0->ipywidgets) (6.5.5)\n",
            "Requirement already satisfied: parso<0.9.0,>=0.8.4 in /usr/local/lib/python3.11/dist-packages (from jedi>=0.16->ipython>=4.0.0->ipywidgets) (0.8.4)\n",
            "Requirement already satisfied: jupyter-core>=4.6.0 in /usr/local/lib/python3.11/dist-packages (from jupyter-client>=6.1.12->ipykernel>=4.5.1->ipywidgets) (5.7.2)\n",
            "Requirement already satisfied: python-dateutil>=2.1 in /usr/local/lib/python3.11/dist-packages (from jupyter-client>=6.1.12->ipykernel>=4.5.1->ipywidgets) (2.8.2)\n",
            "Requirement already satisfied: jinja2 in /usr/local/lib/python3.11/dist-packages (from notebook>=4.4.1->widgetsnbextension~=3.6.0->ipywidgets) (3.1.5)\n",
            "Requirement already satisfied: argon2-cffi in /usr/local/lib/python3.11/dist-packages (from notebook>=4.4.1->widgetsnbextension~=3.6.0->ipywidgets) (23.1.0)\n",
            "Requirement already satisfied: nbformat in /usr/local/lib/python3.11/dist-packages (from notebook>=4.4.1->widgetsnbextension~=3.6.0->ipywidgets) (5.10.4)\n",
            "Requirement already satisfied: nbconvert>=5 in /usr/local/lib/python3.11/dist-packages (from notebook>=4.4.1->widgetsnbextension~=3.6.0->ipywidgets) (7.16.6)\n",
            "Requirement already satisfied: Send2Trash>=1.8.0 in /usr/local/lib/python3.11/dist-packages (from notebook>=4.4.1->widgetsnbextension~=3.6.0->ipywidgets) (1.8.3)\n",
            "Requirement already satisfied: terminado>=0.8.3 in /usr/local/lib/python3.11/dist-packages (from notebook>=4.4.1->widgetsnbextension~=3.6.0->ipywidgets) (0.18.1)\n",
            "Requirement already satisfied: prometheus-client in /usr/local/lib/python3.11/dist-packages (from notebook>=4.4.1->widgetsnbextension~=3.6.0->ipywidgets) (0.21.1)\n",
            "Requirement already satisfied: nbclassic>=0.4.7 in /usr/local/lib/python3.11/dist-packages (from notebook>=4.4.1->widgetsnbextension~=3.6.0->ipywidgets) (1.2.0)\n",
            "Requirement already satisfied: ptyprocess>=0.5 in /usr/local/lib/python3.11/dist-packages (from pexpect>4.3->ipython>=4.0.0->ipywidgets) (0.7.0)\n",
            "Requirement already satisfied: wcwidth in /usr/local/lib/python3.11/dist-packages (from prompt-toolkit!=3.0.0,!=3.0.1,<3.1.0,>=2.0.0->ipython>=4.0.0->ipywidgets) (0.2.13)\n",
            "Requirement already satisfied: platformdirs>=2.5 in /usr/local/lib/python3.11/dist-packages (from jupyter-core>=4.6.0->jupyter-client>=6.1.12->ipykernel>=4.5.1->ipywidgets) (4.3.6)\n",
            "Requirement already satisfied: notebook-shim>=0.2.3 in /usr/local/lib/python3.11/dist-packages (from nbclassic>=0.4.7->notebook>=4.4.1->widgetsnbextension~=3.6.0->ipywidgets) (0.2.4)\n",
            "Requirement already satisfied: beautifulsoup4 in /usr/local/lib/python3.11/dist-packages (from nbconvert>=5->notebook>=4.4.1->widgetsnbextension~=3.6.0->ipywidgets) (4.13.3)\n",
            "Requirement already satisfied: bleach!=5.0.0 in /usr/local/lib/python3.11/dist-packages (from bleach[css]!=5.0.0->nbconvert>=5->notebook>=4.4.1->widgetsnbextension~=3.6.0->ipywidgets) (6.2.0)\n",
            "Requirement already satisfied: defusedxml in /usr/local/lib/python3.11/dist-packages (from nbconvert>=5->notebook>=4.4.1->widgetsnbextension~=3.6.0->ipywidgets) (0.7.1)\n",
            "Requirement already satisfied: jupyterlab-pygments in /usr/local/lib/python3.11/dist-packages (from nbconvert>=5->notebook>=4.4.1->widgetsnbextension~=3.6.0->ipywidgets) (0.3.0)\n",
            "Requirement already satisfied: markupsafe>=2.0 in /usr/local/lib/python3.11/dist-packages (from nbconvert>=5->notebook>=4.4.1->widgetsnbextension~=3.6.0->ipywidgets) (3.0.2)\n",
            "Requirement already satisfied: mistune<4,>=2.0.3 in /usr/local/lib/python3.11/dist-packages (from nbconvert>=5->notebook>=4.4.1->widgetsnbextension~=3.6.0->ipywidgets) (3.1.2)\n",
            "Requirement already satisfied: nbclient>=0.5.0 in /usr/local/lib/python3.11/dist-packages (from nbconvert>=5->notebook>=4.4.1->widgetsnbextension~=3.6.0->ipywidgets) (0.10.2)\n",
            "Requirement already satisfied: pandocfilters>=1.4.1 in /usr/local/lib/python3.11/dist-packages (from nbconvert>=5->notebook>=4.4.1->widgetsnbextension~=3.6.0->ipywidgets) (1.5.1)\n",
            "Requirement already satisfied: fastjsonschema>=2.15 in /usr/local/lib/python3.11/dist-packages (from nbformat->notebook>=4.4.1->widgetsnbextension~=3.6.0->ipywidgets) (2.21.1)\n",
            "Requirement already satisfied: jsonschema>=2.6 in /usr/local/lib/python3.11/dist-packages (from nbformat->notebook>=4.4.1->widgetsnbextension~=3.6.0->ipywidgets) (4.23.0)\n",
            "Requirement already satisfied: six>=1.5 in /usr/local/lib/python3.11/dist-packages (from python-dateutil>=2.1->jupyter-client>=6.1.12->ipykernel>=4.5.1->ipywidgets) (1.17.0)\n",
            "Requirement already satisfied: argon2-cffi-bindings in /usr/local/lib/python3.11/dist-packages (from argon2-cffi->notebook>=4.4.1->widgetsnbextension~=3.6.0->ipywidgets) (21.2.0)\n",
            "Requirement already satisfied: webencodings in /usr/local/lib/python3.11/dist-packages (from bleach!=5.0.0->bleach[css]!=5.0.0->nbconvert>=5->notebook>=4.4.1->widgetsnbextension~=3.6.0->ipywidgets) (0.5.1)\n",
            "Requirement already satisfied: tinycss2<1.5,>=1.1.0 in /usr/local/lib/python3.11/dist-packages (from bleach[css]!=5.0.0->nbconvert>=5->notebook>=4.4.1->widgetsnbextension~=3.6.0->ipywidgets) (1.4.0)\n",
            "Requirement already satisfied: attrs>=22.2.0 in /usr/local/lib/python3.11/dist-packages (from jsonschema>=2.6->nbformat->notebook>=4.4.1->widgetsnbextension~=3.6.0->ipywidgets) (25.1.0)\n",
            "Requirement already satisfied: jsonschema-specifications>=2023.03.6 in /usr/local/lib/python3.11/dist-packages (from jsonschema>=2.6->nbformat->notebook>=4.4.1->widgetsnbextension~=3.6.0->ipywidgets) (2024.10.1)\n",
            "Requirement already satisfied: referencing>=0.28.4 in /usr/local/lib/python3.11/dist-packages (from jsonschema>=2.6->nbformat->notebook>=4.4.1->widgetsnbextension~=3.6.0->ipywidgets) (0.36.2)\n",
            "Requirement already satisfied: rpds-py>=0.7.1 in /usr/local/lib/python3.11/dist-packages (from jsonschema>=2.6->nbformat->notebook>=4.4.1->widgetsnbextension~=3.6.0->ipywidgets) (0.23.1)\n",
            "Requirement already satisfied: jupyter-server<3,>=1.8 in /usr/local/lib/python3.11/dist-packages (from notebook-shim>=0.2.3->nbclassic>=0.4.7->notebook>=4.4.1->widgetsnbextension~=3.6.0->ipywidgets) (1.24.0)\n",
            "Requirement already satisfied: cffi>=1.0.1 in /usr/local/lib/python3.11/dist-packages (from argon2-cffi-bindings->argon2-cffi->notebook>=4.4.1->widgetsnbextension~=3.6.0->ipywidgets) (1.17.1)\n",
            "Requirement already satisfied: soupsieve>1.2 in /usr/local/lib/python3.11/dist-packages (from beautifulsoup4->nbconvert>=5->notebook>=4.4.1->widgetsnbextension~=3.6.0->ipywidgets) (2.6)\n",
            "Requirement already satisfied: typing-extensions>=4.0.0 in /usr/local/lib/python3.11/dist-packages (from beautifulsoup4->nbconvert>=5->notebook>=4.4.1->widgetsnbextension~=3.6.0->ipywidgets) (4.12.2)\n",
            "Requirement already satisfied: pycparser in /usr/local/lib/python3.11/dist-packages (from cffi>=1.0.1->argon2-cffi-bindings->argon2-cffi->notebook>=4.4.1->widgetsnbextension~=3.6.0->ipywidgets) (2.22)\n",
            "Requirement already satisfied: anyio<4,>=3.1.0 in /usr/local/lib/python3.11/dist-packages (from jupyter-server<3,>=1.8->notebook-shim>=0.2.3->nbclassic>=0.4.7->notebook>=4.4.1->widgetsnbextension~=3.6.0->ipywidgets) (3.7.1)\n",
            "Requirement already satisfied: websocket-client in /usr/local/lib/python3.11/dist-packages (from jupyter-server<3,>=1.8->notebook-shim>=0.2.3->nbclassic>=0.4.7->notebook>=4.4.1->widgetsnbextension~=3.6.0->ipywidgets) (1.8.0)\n",
            "Requirement already satisfied: idna>=2.8 in /usr/local/lib/python3.11/dist-packages (from anyio<4,>=3.1.0->jupyter-server<3,>=1.8->notebook-shim>=0.2.3->nbclassic>=0.4.7->notebook>=4.4.1->widgetsnbextension~=3.6.0->ipywidgets) (3.10)\n",
            "Requirement already satisfied: sniffio>=1.1 in /usr/local/lib/python3.11/dist-packages (from anyio<4,>=3.1.0->jupyter-server<3,>=1.8->notebook-shim>=0.2.3->nbclassic>=0.4.7->notebook>=4.4.1->widgetsnbextension~=3.6.0->ipywidgets) (1.3.1)\n"
          ]
        }
      ],
      "source": [
        "!pip install ipywidgets plotly\n",
        "\n",
        "import requests\n",
        "import pandas as pd\n",
        "from urllib.parse import urlencode\n",
        "import ipywidgets as widgets\n",
        "from IPython.display import display\n",
        "import plotly.express as px\n"
      ]
    },
    {
      "cell_type": "markdown",
      "metadata": {
        "id": "ZH7675-WZaTK"
      },
      "source": [
        "### Função para requisição de dados\n",
        "\n",
        "A função `fetch_nyc311_data` faz requisições à API do NYC 311 para coletar um certo número de registros (definido por `total_records`). Como a API retorna, no máximo, 1.000 resultados por requisição, o código precisa efetuar várias chamadas sequenciais até alcançar o total desejado.\n",
        "\n",
        "- **Parâmetros**:\n",
        "  - `total_records`: quantidade total de linhas que se deseja obter (padrão: 5.000).\n",
        "  - `order`: critério de ordenação (por exemplo, `\"created_date ASC\"` ou `\"created_date DESC\"`).\n",
        "\n",
        "- **Lógica**:\n",
        "  1. Define o endpoint da API e inicia variáveis para controle de paginação (`offset`, `limit_`, `fetched`).\n",
        "  2. Enquanto não atingir `total_records` baixados, monta os parâmetros de consulta, incluindo quantos registros (`$limit`) e a posição (`$offset`).\n",
        "  3. Caso `order` seja fornecido, adiciona-o à query string (`$order`).\n",
        "  4. Faz a requisição e adiciona os resultados à lista `data_list`.\n",
        "  5. Atualiza os contadores (`fetched` e `offset`) para a próxima iteração.\n",
        "  6. Se a chamada não retornar mais dados ou ocorrer erro, o loop encerra.\n",
        "  7. Ao final, converte `data_list` em um `pandas.DataFrame` e o retorna.\n"
      ]
    },
    {
      "cell_type": "code",
      "execution_count": null,
      "metadata": {
        "id": "AUhHCXsWZZd0"
      },
      "outputs": [],
      "source": [
        "def fetch_nyc311_data(total_records=5000, order=None):\n",
        "    base_url = \"https://data.cityofnewyork.us/resource/erm2-nwe9.json\"\n",
        "    data_list = []\n",
        "    offset = 0\n",
        "    limit_ = 1000\n",
        "    fetched = 0\n",
        "    while fetched < total_records:\n",
        "        remaining = total_records - fetched\n",
        "        batch = min(limit_, remaining)\n",
        "        params = {\"$limit\": batch, \"$offset\": offset}\n",
        "        if order:\n",
        "            params[\"$order\"] = order\n",
        "        qs = urlencode(params)\n",
        "        url = f\"{base_url}?{qs}\"\n",
        "        resp = requests.get(url)\n",
        "        if resp.status_code == 200:\n",
        "            chunk = resp.json()\n",
        "            if not chunk:\n",
        "                break\n",
        "            data_list.extend(chunk)\n",
        "            fetched += len(chunk)\n",
        "            offset += len(chunk)\n",
        "        else:\n",
        "            break\n",
        "    return pd.DataFrame(data_list)"
      ]
    },
    {
      "cell_type": "markdown",
      "metadata": {
        "id": "UDGfk3dwLET6"
      },
      "source": [
        "## Utilizando a função para buscar dados\n"
      ]
    },
    {
      "cell_type": "code",
      "execution_count": null,
      "metadata": {
        "id": "uOQcTgs1cGJJ"
      },
      "outputs": [],
      "source": [
        "df_oldest = fetch_nyc311_data(total_records=10000, order=\"created_date ASC\")\n",
        "df_oldest[\"segment\"] = \"oldest\"\n",
        "\n",
        "df_newest = fetch_nyc311_data(total_records=10000, order=\"created_date DESC\")\n",
        "df_newest[\"segment\"] = \"newest\"\n",
        "\n",
        "df_all = pd.concat([df_oldest, df_newest], ignore_index=True).dropna(subset=[\"complaint_type\"])\n",
        "df_all[\"complaint_type\"] = df_all[\"complaint_type\"].astype(str)"
      ]
    },
    {
      "cell_type": "markdown",
      "metadata": {
        "id": "P1lNxeoIcT-K"
      },
      "source": [
        "## 2. Criação do Gráfico"
      ]
    },
    {
      "cell_type": "markdown",
      "metadata": {
        "id": "WIzo8IukdUam"
      },
      "source": [
        "A ideia é criar um gráfico vendo a cmoparação de todas as reclamações e poder escolher uma tipo de reclamação para ver de forma individual"
      ]
    },
    {
      "cell_type": "markdown",
      "metadata": {
        "id": "7OyC1kKxeB_3"
      },
      "source": [
        "### Criação do gráfico inicial"
      ]
    },
    {
      "cell_type": "code",
      "execution_count": null,
      "metadata": {
        "id": "-FQbgZYYdrNU"
      },
      "outputs": [],
      "source": [
        "grouped_all = df_all.groupby([\"complaint_type\",\"segment\"]).size().reset_index(name=\"count\")\n",
        "\n",
        "fig_default = px.bar(\n",
        "    grouped_all,\n",
        "    x=\"complaint_type\",\n",
        "    y=\"count\",\n",
        "    color=\"segment\",\n",
        "    barmode=\"group\",\n",
        "    title=\"Comparação de Todos os Tipos (Oldest vs Newest)\"\n",
        ")"
      ]
    },
    {
      "cell_type": "markdown",
      "metadata": {
        "id": "0vepk_nkeawp"
      },
      "source": [
        "### Configuração dos widgets"
      ]
    },
    {
      "cell_type": "code",
      "execution_count": null,
      "metadata": {
        "id": "fYQY5UGIehSR"
      },
      "outputs": [],
      "source": [
        "all_types = sorted(df_all[\"complaint_type\"].unique())\n",
        "\n",
        "multi_select = widgets.SelectMultiple(\n",
        "    options=all_types,\n",
        "    description=\"Filtrar Tipo:\",\n",
        "    rows=10,\n",
        "    layout=widgets.Layout(width='50%')\n",
        ")"
      ]
    },
    {
      "cell_type": "markdown",
      "metadata": {
        "id": "dP1If4fieq--"
      },
      "source": [
        "###  Função de callback"
      ]
    },
    {
      "cell_type": "code",
      "execution_count": null,
      "metadata": {
        "id": "9qEkpeStet2r"
      },
      "outputs": [],
      "source": [
        "def on_button_click(b):\n",
        "    with output:\n",
        "        output.clear_output()\n",
        "        selected = multi_select.value\n",
        "        if not selected:\n",
        "            print(\"Nenhum tipo selecionado. Exibindo todos.\")\n",
        "            filtered = df_all\n",
        "        else:\n",
        "            filtered = df_all[df_all[\"complaint_type\"].isin(selected)]\n",
        "        if filtered.empty:\n",
        "            print(\"Sem dados para esse filtro.\")\n",
        "            return\n",
        "        grouped_filtered = filtered.groupby([\"complaint_type\",\"segment\"]).size().reset_index(name=\"count\")\n",
        "        fig_filtered = px.bar(\n",
        "            grouped_filtered,\n",
        "            x=\"complaint_type\",\n",
        "            y=\"count\",\n",
        "            color=\"segment\",\n",
        "            barmode=\"group\",\n",
        "            title=\"Comparação Filtrada (Oldest vs Newest)\"\n",
        "        )\n",
        "        fig_filtered.update_layout(xaxis_title=\"Complaint Type\", yaxis_title=\"Count\")\n",
        "        fig_filtered.show()\n"
      ]
    },
    {
      "cell_type": "markdown",
      "metadata": {
        "id": "Gk8B1QaEewv6"
      },
      "source": [
        "### Display Final"
      ]
    },
    {
      "cell_type": "code",
      "execution_count": null,
      "metadata": {
        "colab": {
          "base_uri": "https://localhost:8080/",
          "height": 1000,
          "referenced_widgets": [
            "092a5617da9a49cca4fe37c5213840a3",
            "12adc030f5474564bdd9ef3f263d7a7c",
            "12f680395036484ab776ff8959e4e27a",
            "d8b6e0bce6724067b8a7ac9f76c394e9",
            "18ea3f9e7f8e4de09dc0469ee6e4ee5e",
            "5b2bfb61477a49a4a8861806d600039c",
            "794a2210bd084981ab8b38cbc79c0b5c",
            "1fe77e37360a4680a196c5e96ff4f675"
          ]
        },
        "id": "bMwIEi36ey8V",
        "outputId": "17e94581-de09-41ad-bfbe-1a10a9c885e2"
      },
      "outputs": [
        {
          "data": {
            "text/html": [
              "<html>\n",
              "<head><meta charset=\"utf-8\" /></head>\n",
              "<body>\n",
              "    <div>            <script src=\"https://cdnjs.cloudflare.com/ajax/libs/mathjax/2.7.5/MathJax.js?config=TeX-AMS-MML_SVG\"></script><script type=\"text/javascript\">if (window.MathJax && window.MathJax.Hub && window.MathJax.Hub.Config) {window.MathJax.Hub.Config({SVG: {font: \"STIX-Web\"}});}</script>                <script type=\"text/javascript\">window.PlotlyConfig = {MathJaxConfig: 'local'};</script>\n",
              "        <script charset=\"utf-8\" src=\"https://cdn.plot.ly/plotly-2.35.2.min.js\"></script>                <div id=\"2f529b1d-dcd0-4c6a-860a-26ab0ea51ad5\" class=\"plotly-graph-div\" style=\"height:525px; width:100%;\"></div>            <script type=\"text/javascript\">                                    window.PLOTLYENV=window.PLOTLYENV || {};                                    if (document.getElementById(\"2f529b1d-dcd0-4c6a-860a-26ab0ea51ad5\")) {                    Plotly.newPlot(                        \"2f529b1d-dcd0-4c6a-860a-26ab0ea51ad5\",                        [{\"alignmentgroup\":\"True\",\"hovertemplate\":\"segment=newest\\u003cbr\\u003ecomplaint_type=%{x}\\u003cbr\\u003ecount=%{y}\\u003cextra\\u003e\\u003c\\u002fextra\\u003e\",\"legendgroup\":\"newest\",\"marker\":{\"color\":\"#636efa\",\"pattern\":{\"shape\":\"\"}},\"name\":\"newest\",\"offsetgroup\":\"newest\",\"orientation\":\"v\",\"showlegend\":true,\"textposition\":\"auto\",\"x\":[\"APPLIANCE\",\"Abandoned Bike\",\"Abandoned Vehicle\",\"Air Quality\",\"Animal in a Park\",\"Animal-Abuse\",\"Asbestos\",\"BEST\\u002fSite Safety\",\"Bench\",\"Bike Rack\",\"Bike\\u002fRoller\\u002fSkate Chronic\",\"Blocked Driveway\",\"Boilers\",\"Bridge Condition\",\"Broken Parking Meter\",\"Building\\u002fUse\",\"Bus Stop Shelter Complaint\",\"Commercial Disposal Complaint\",\"Construction Lead Dust\",\"Consumer Complaint\",\"Curb Condition\",\"DOOR\\u002fWINDOW\",\"Damaged Tree\",\"Day Care\",\"Dead Animal\",\"Dead\\u002fDying Tree\",\"Derelict Vehicles\",\"Dirty Condition\",\"Disorderly Youth\",\"Drinking\",\"Drinking Water\",\"Drug Activity\",\"Dumpster Complaint\",\"E-Scooter\",\"ELECTRIC\",\"ELEVATOR\",\"Electrical\",\"Elevator\",\"Emergency Response Team (ERT)\",\"Encampment\",\"FLOORING\\u002fSTAIRS\",\"Ferry Inquiry\",\"Food Establishment\",\"Food Poisoning\",\"For Hire Vehicle Complaint\",\"For Hire Vehicle Report\",\"GENERAL\",\"General Construction\\u002fPlumbing\",\"Graffiti\",\"Green Taxi Complaint\",\"HEAT\\u002fHOT WATER\",\"Harboring Bees\\u002fWasps\",\"Hazardous Materials\",\"Highway Condition\",\"Highway Sign - Dangling\",\"Homeless Person Assistance\",\"Illegal Dumping\",\"Illegal Fireworks\",\"Illegal Parking\",\"Illegal Posting\",\"Illegal Tree Damage\",\"Indoor Air Quality\",\"Industrial Waste\",\"Investigations and Discipline (IAD)\",\"Lead\",\"LinkNYC\",\"Litter Basket Complaint\",\"Litter Basket Request\",\"Lost Property\",\"Lot Condition\",\"Maintenance or Facility\",\"Missed Collection\",\"Mobile Food Vendor\",\"Mold\",\"New Tree Request\",\"Noise\",\"Noise - Commercial\",\"Noise - Helicopter\",\"Noise - House of Worship\",\"Noise - Park\",\"Noise - Residential\",\"Noise - Street\\u002fSidewalk\",\"Noise - Vehicle\",\"Non-Emergency Police Matter\",\"Non-Residential Heat\",\"Obstruction\",\"Outdoor Dining\",\"Overgrown Tree\\u002fBranches\",\"PAINT\\u002fPLASTER\",\"PLUMBING\",\"Panhandling\",\"Plumbing\",\"Real Time Enforcement\",\"Residential Disposal Complaint\",\"Rodent\",\"Root\\u002fSewer\\u002fSidewalk Condition\",\"SAFETY\",\"Sanitation Worker or Vehicle Complaint\",\"School Maintenance\",\"Sewer\",\"Sidewalk Condition\",\"Smoking or Vaping\",\"Special Projects Inspection Team (SPIT)\",\"Street Condition\",\"Street Light Condition\",\"Street Sign - Damaged\",\"Street Sign - Dangling\",\"Street Sign - Missing\",\"Street Sweeping Complaint\",\"Tattooing\",\"Taxi Complaint\",\"Taxi Report\",\"Tobacco or Non-Tobacco Sale\",\"Traffic\",\"Traffic Signal Condition\",\"UNSANITARY CONDITION\",\"Unleashed Dog\",\"Unsanitary Animal Pvt Property\",\"Unsanitary Pigeon Condition\",\"Uprooted Stump\",\"Urinating in Public\",\"Vendor Enforcement\",\"Violation of Park Rules\",\"WATER LEAK\",\"Water Conservation\",\"Water Quality\",\"Water System\"],\"xaxis\":\"x\",\"y\":[61,12,212,50,28,31,3,2,1,5,2,546,8,1,7,55,2,17,3,56,16,135,46,2,24,12,61,161,1,6,2,71,4,1,67,1,6,57,6,95,80,1,37,10,70,1,95,89,61,1,900,1,9,13,1,81,121,4,2088,20,13,39,3,2,40,1,2,11,21,4,43,167,17,5,5,174,303,85,10,29,1025,290,93,73,1,57,12,19,148,248,59,3,12,29,99,25,41,12,2,68,71,15,9,186,9,22,16,8,1,1,27,2,1,45,6,303,5,9,6,1,2,81,6,112,17,6,184],\"yaxis\":\"y\",\"type\":\"bar\"},{\"alignmentgroup\":\"True\",\"hovertemplate\":\"segment=oldest\\u003cbr\\u003ecomplaint_type=%{x}\\u003cbr\\u003ecount=%{y}\\u003cextra\\u003e\\u003c\\u002fextra\\u003e\",\"legendgroup\":\"oldest\",\"marker\":{\"color\":\"#EF553B\",\"pattern\":{\"shape\":\"\"}},\"name\":\"oldest\",\"offsetgroup\":\"oldest\",\"orientation\":\"v\",\"showlegend\":true,\"textposition\":\"auto\",\"x\":[\"APPLIANCE\",\"Air Quality\",\"Alzheimer's Care\",\"Animal in a Park\",\"Asbestos\",\"BEST\\u002fSite Safety\",\"Bike\\u002fRoller\\u002fSkate Chronic\",\"Blocked Driveway\",\"Boilers\",\"Bridge Condition\",\"Broken Muni Meter\",\"Broken Parking Meter\",\"Building\\u002fUse\",\"Bus Stop Shelter Complaint\",\"CONSTRUCTION\",\"Collection Truck Noise\",\"Consumer Complaint\",\"DCA \\u002f DOH New License Application Request\",\"DHS Advantage - Tenant\",\"DHS Advantage -Landlord\\u002fBroker\",\"DOF Parking - Payment Issue\",\"DOF Parking - Request Copy\",\"DOF Property - Owner Issue\",\"DOF Property - Payment Issue\",\"DOF Property - Reduction Issue\",\"Damaged Tree\",\"Dead Tree\",\"Derelict Vehicle\",\"Derelict Vehicles\",\"Dirty Conditions\",\"Disorderly Youth\",\"Drinking\",\"ELECTRIC\",\"Elder Abuse\",\"Electrical\",\"Elevator\",\"Emergency Response Team (ERT)\",\"Eviction\",\"Ferry Inquiry\",\"Food Establishment\",\"Food Poisoning\",\"For Hire Vehicle Complaint\",\"Found Property\",\"GENERAL CONSTRUCTION\",\"General Construction\\u002fPlumbing\",\"Graffiti\",\"HEATING\",\"HPD Literature Request\",\"Harboring Bees\\u002fWasps\",\"Hazardous Materials\",\"Highway Condition\",\"Highway Sign - Dangling\",\"Home Delivered Meal - Missed Delivery\",\"Home Repair\",\"Homeless Encampment\",\"Housing Options\",\"Illegal Fireworks\",\"Illegal Tree Damage\",\"Indoor Air Quality\",\"Industrial Waste\",\"Lead\",\"Literature Request\",\"Litter Basket \\u002f Request\",\"Maintenance or Facility\",\"Missed Collection (All Materials)\",\"NONCONST\",\"New Tree Request\",\"Noise\",\"Noise - Commercial\",\"Noise - House of Worship\",\"Noise - Park\",\"Noise - Residential\",\"Noise - Street\\u002fSidewalk\",\"Noise - Vehicle\",\"Non-Emergency Police Matter\",\"Non-Residential Heat\",\"OEM Literature Request\",\"Other Enforcement\",\"Overflowing Litter Baskets\",\"Overgrown Tree\\u002fBranches\",\"PAINT - PLASTER\",\"PLUMBING\",\"Plant\",\"Plumbing\",\"Posting Advertisement\",\"Public Payphone Complaint\",\"Recycling Enforcement\",\"Rodent\",\"Root\\u002fSewer\\u002fSidewalk Condition\",\"SCRIE\",\"Safety\",\"Sanitation Condition\",\"Scaffold Safety\",\"Sewer\",\"Sidewalk Condition\",\"Smoking\",\"Snow\",\"Special Projects Inspection Team (SPIT)\",\"Street Condition\",\"Street Light Condition\",\"Street Sign - Damaged\",\"Street Sign - Dangling\",\"Street Sign - Missing\",\"Taxi Complaint\",\"Taxi Compliment\",\"Traffic Signal Condition\",\"Traffic\\u002fIllegal Parking\",\"Unsanitary Animal Pvt Property\",\"Unsanitary Pigeon Condition\",\"Urinating in Public\",\"Utility Program\",\"Vacant Lot\",\"Vending\",\"Water Conservation\",\"Water Quality\",\"Water System\",\"Window Guard\"],\"xaxis\":\"x\",\"y\":[67,20,2,7,1,1,1,276,15,7,70,12,35,2,9,2,22,10,3,1,2,2,2,2,1,23,6,44,17,66,2,5,181,2,1,22,7,1,1,8,7,9,4,607,60,8,4496,29,1,5,14,1,1,1,4,8,1,2,7,6,7,80,2,12,54,290,9,43,115,2,1,936,26,22,9,11,2,11,5,5,383,623,3,2,1,4,6,31,3,7,1,56,1,99,15,4,20,7,157,95,32,11,12,109,1,178,89,7,3,2,1,1,20,6,2,136,1],\"yaxis\":\"y\",\"type\":\"bar\"}],                        {\"template\":{\"data\":{\"histogram2dcontour\":[{\"type\":\"histogram2dcontour\",\"colorbar\":{\"outlinewidth\":0,\"ticks\":\"\"},\"colorscale\":[[0.0,\"#0d0887\"],[0.1111111111111111,\"#46039f\"],[0.2222222222222222,\"#7201a8\"],[0.3333333333333333,\"#9c179e\"],[0.4444444444444444,\"#bd3786\"],[0.5555555555555556,\"#d8576b\"],[0.6666666666666666,\"#ed7953\"],[0.7777777777777778,\"#fb9f3a\"],[0.8888888888888888,\"#fdca26\"],[1.0,\"#f0f921\"]]}],\"choropleth\":[{\"type\":\"choropleth\",\"colorbar\":{\"outlinewidth\":0,\"ticks\":\"\"}}],\"histogram2d\":[{\"type\":\"histogram2d\",\"colorbar\":{\"outlinewidth\":0,\"ticks\":\"\"},\"colorscale\":[[0.0,\"#0d0887\"],[0.1111111111111111,\"#46039f\"],[0.2222222222222222,\"#7201a8\"],[0.3333333333333333,\"#9c179e\"],[0.4444444444444444,\"#bd3786\"],[0.5555555555555556,\"#d8576b\"],[0.6666666666666666,\"#ed7953\"],[0.7777777777777778,\"#fb9f3a\"],[0.8888888888888888,\"#fdca26\"],[1.0,\"#f0f921\"]]}],\"heatmap\":[{\"type\":\"heatmap\",\"colorbar\":{\"outlinewidth\":0,\"ticks\":\"\"},\"colorscale\":[[0.0,\"#0d0887\"],[0.1111111111111111,\"#46039f\"],[0.2222222222222222,\"#7201a8\"],[0.3333333333333333,\"#9c179e\"],[0.4444444444444444,\"#bd3786\"],[0.5555555555555556,\"#d8576b\"],[0.6666666666666666,\"#ed7953\"],[0.7777777777777778,\"#fb9f3a\"],[0.8888888888888888,\"#fdca26\"],[1.0,\"#f0f921\"]]}],\"heatmapgl\":[{\"type\":\"heatmapgl\",\"colorbar\":{\"outlinewidth\":0,\"ticks\":\"\"},\"colorscale\":[[0.0,\"#0d0887\"],[0.1111111111111111,\"#46039f\"],[0.2222222222222222,\"#7201a8\"],[0.3333333333333333,\"#9c179e\"],[0.4444444444444444,\"#bd3786\"],[0.5555555555555556,\"#d8576b\"],[0.6666666666666666,\"#ed7953\"],[0.7777777777777778,\"#fb9f3a\"],[0.8888888888888888,\"#fdca26\"],[1.0,\"#f0f921\"]]}],\"contourcarpet\":[{\"type\":\"contourcarpet\",\"colorbar\":{\"outlinewidth\":0,\"ticks\":\"\"}}],\"contour\":[{\"type\":\"contour\",\"colorbar\":{\"outlinewidth\":0,\"ticks\":\"\"},\"colorscale\":[[0.0,\"#0d0887\"],[0.1111111111111111,\"#46039f\"],[0.2222222222222222,\"#7201a8\"],[0.3333333333333333,\"#9c179e\"],[0.4444444444444444,\"#bd3786\"],[0.5555555555555556,\"#d8576b\"],[0.6666666666666666,\"#ed7953\"],[0.7777777777777778,\"#fb9f3a\"],[0.8888888888888888,\"#fdca26\"],[1.0,\"#f0f921\"]]}],\"surface\":[{\"type\":\"surface\",\"colorbar\":{\"outlinewidth\":0,\"ticks\":\"\"},\"colorscale\":[[0.0,\"#0d0887\"],[0.1111111111111111,\"#46039f\"],[0.2222222222222222,\"#7201a8\"],[0.3333333333333333,\"#9c179e\"],[0.4444444444444444,\"#bd3786\"],[0.5555555555555556,\"#d8576b\"],[0.6666666666666666,\"#ed7953\"],[0.7777777777777778,\"#fb9f3a\"],[0.8888888888888888,\"#fdca26\"],[1.0,\"#f0f921\"]]}],\"mesh3d\":[{\"type\":\"mesh3d\",\"colorbar\":{\"outlinewidth\":0,\"ticks\":\"\"}}],\"scatter\":[{\"fillpattern\":{\"fillmode\":\"overlay\",\"size\":10,\"solidity\":0.2},\"type\":\"scatter\"}],\"parcoords\":[{\"type\":\"parcoords\",\"line\":{\"colorbar\":{\"outlinewidth\":0,\"ticks\":\"\"}}}],\"scatterpolargl\":[{\"type\":\"scatterpolargl\",\"marker\":{\"colorbar\":{\"outlinewidth\":0,\"ticks\":\"\"}}}],\"bar\":[{\"error_x\":{\"color\":\"#2a3f5f\"},\"error_y\":{\"color\":\"#2a3f5f\"},\"marker\":{\"line\":{\"color\":\"#E5ECF6\",\"width\":0.5},\"pattern\":{\"fillmode\":\"overlay\",\"size\":10,\"solidity\":0.2}},\"type\":\"bar\"}],\"scattergeo\":[{\"type\":\"scattergeo\",\"marker\":{\"colorbar\":{\"outlinewidth\":0,\"ticks\":\"\"}}}],\"scatterpolar\":[{\"type\":\"scatterpolar\",\"marker\":{\"colorbar\":{\"outlinewidth\":0,\"ticks\":\"\"}}}],\"histogram\":[{\"marker\":{\"pattern\":{\"fillmode\":\"overlay\",\"size\":10,\"solidity\":0.2}},\"type\":\"histogram\"}],\"scattergl\":[{\"type\":\"scattergl\",\"marker\":{\"colorbar\":{\"outlinewidth\":0,\"ticks\":\"\"}}}],\"scatter3d\":[{\"type\":\"scatter3d\",\"line\":{\"colorbar\":{\"outlinewidth\":0,\"ticks\":\"\"}},\"marker\":{\"colorbar\":{\"outlinewidth\":0,\"ticks\":\"\"}}}],\"scattermapbox\":[{\"type\":\"scattermapbox\",\"marker\":{\"colorbar\":{\"outlinewidth\":0,\"ticks\":\"\"}}}],\"scatterternary\":[{\"type\":\"scatterternary\",\"marker\":{\"colorbar\":{\"outlinewidth\":0,\"ticks\":\"\"}}}],\"scattercarpet\":[{\"type\":\"scattercarpet\",\"marker\":{\"colorbar\":{\"outlinewidth\":0,\"ticks\":\"\"}}}],\"carpet\":[{\"aaxis\":{\"endlinecolor\":\"#2a3f5f\",\"gridcolor\":\"white\",\"linecolor\":\"white\",\"minorgridcolor\":\"white\",\"startlinecolor\":\"#2a3f5f\"},\"baxis\":{\"endlinecolor\":\"#2a3f5f\",\"gridcolor\":\"white\",\"linecolor\":\"white\",\"minorgridcolor\":\"white\",\"startlinecolor\":\"#2a3f5f\"},\"type\":\"carpet\"}],\"table\":[{\"cells\":{\"fill\":{\"color\":\"#EBF0F8\"},\"line\":{\"color\":\"white\"}},\"header\":{\"fill\":{\"color\":\"#C8D4E3\"},\"line\":{\"color\":\"white\"}},\"type\":\"table\"}],\"barpolar\":[{\"marker\":{\"line\":{\"color\":\"#E5ECF6\",\"width\":0.5},\"pattern\":{\"fillmode\":\"overlay\",\"size\":10,\"solidity\":0.2}},\"type\":\"barpolar\"}],\"pie\":[{\"automargin\":true,\"type\":\"pie\"}]},\"layout\":{\"autotypenumbers\":\"strict\",\"colorway\":[\"#636efa\",\"#EF553B\",\"#00cc96\",\"#ab63fa\",\"#FFA15A\",\"#19d3f3\",\"#FF6692\",\"#B6E880\",\"#FF97FF\",\"#FECB52\"],\"font\":{\"color\":\"#2a3f5f\"},\"hovermode\":\"closest\",\"hoverlabel\":{\"align\":\"left\"},\"paper_bgcolor\":\"white\",\"plot_bgcolor\":\"#E5ECF6\",\"polar\":{\"bgcolor\":\"#E5ECF6\",\"angularaxis\":{\"gridcolor\":\"white\",\"linecolor\":\"white\",\"ticks\":\"\"},\"radialaxis\":{\"gridcolor\":\"white\",\"linecolor\":\"white\",\"ticks\":\"\"}},\"ternary\":{\"bgcolor\":\"#E5ECF6\",\"aaxis\":{\"gridcolor\":\"white\",\"linecolor\":\"white\",\"ticks\":\"\"},\"baxis\":{\"gridcolor\":\"white\",\"linecolor\":\"white\",\"ticks\":\"\"},\"caxis\":{\"gridcolor\":\"white\",\"linecolor\":\"white\",\"ticks\":\"\"}},\"coloraxis\":{\"colorbar\":{\"outlinewidth\":0,\"ticks\":\"\"}},\"colorscale\":{\"sequential\":[[0.0,\"#0d0887\"],[0.1111111111111111,\"#46039f\"],[0.2222222222222222,\"#7201a8\"],[0.3333333333333333,\"#9c179e\"],[0.4444444444444444,\"#bd3786\"],[0.5555555555555556,\"#d8576b\"],[0.6666666666666666,\"#ed7953\"],[0.7777777777777778,\"#fb9f3a\"],[0.8888888888888888,\"#fdca26\"],[1.0,\"#f0f921\"]],\"sequentialminus\":[[0.0,\"#0d0887\"],[0.1111111111111111,\"#46039f\"],[0.2222222222222222,\"#7201a8\"],[0.3333333333333333,\"#9c179e\"],[0.4444444444444444,\"#bd3786\"],[0.5555555555555556,\"#d8576b\"],[0.6666666666666666,\"#ed7953\"],[0.7777777777777778,\"#fb9f3a\"],[0.8888888888888888,\"#fdca26\"],[1.0,\"#f0f921\"]],\"diverging\":[[0,\"#8e0152\"],[0.1,\"#c51b7d\"],[0.2,\"#de77ae\"],[0.3,\"#f1b6da\"],[0.4,\"#fde0ef\"],[0.5,\"#f7f7f7\"],[0.6,\"#e6f5d0\"],[0.7,\"#b8e186\"],[0.8,\"#7fbc41\"],[0.9,\"#4d9221\"],[1,\"#276419\"]]},\"xaxis\":{\"gridcolor\":\"white\",\"linecolor\":\"white\",\"ticks\":\"\",\"title\":{\"standoff\":15},\"zerolinecolor\":\"white\",\"automargin\":true,\"zerolinewidth\":2},\"yaxis\":{\"gridcolor\":\"white\",\"linecolor\":\"white\",\"ticks\":\"\",\"title\":{\"standoff\":15},\"zerolinecolor\":\"white\",\"automargin\":true,\"zerolinewidth\":2},\"scene\":{\"xaxis\":{\"backgroundcolor\":\"#E5ECF6\",\"gridcolor\":\"white\",\"linecolor\":\"white\",\"showbackground\":true,\"ticks\":\"\",\"zerolinecolor\":\"white\",\"gridwidth\":2},\"yaxis\":{\"backgroundcolor\":\"#E5ECF6\",\"gridcolor\":\"white\",\"linecolor\":\"white\",\"showbackground\":true,\"ticks\":\"\",\"zerolinecolor\":\"white\",\"gridwidth\":2},\"zaxis\":{\"backgroundcolor\":\"#E5ECF6\",\"gridcolor\":\"white\",\"linecolor\":\"white\",\"showbackground\":true,\"ticks\":\"\",\"zerolinecolor\":\"white\",\"gridwidth\":2}},\"shapedefaults\":{\"line\":{\"color\":\"#2a3f5f\"}},\"annotationdefaults\":{\"arrowcolor\":\"#2a3f5f\",\"arrowhead\":0,\"arrowwidth\":1},\"geo\":{\"bgcolor\":\"white\",\"landcolor\":\"#E5ECF6\",\"subunitcolor\":\"white\",\"showland\":true,\"showlakes\":true,\"lakecolor\":\"white\"},\"title\":{\"x\":0.05},\"mapbox\":{\"style\":\"light\"}}},\"xaxis\":{\"anchor\":\"y\",\"domain\":[0.0,1.0],\"title\":{\"text\":\"Complaint Type\"}},\"yaxis\":{\"anchor\":\"x\",\"domain\":[0.0,1.0],\"title\":{\"text\":\"Count\"}},\"legend\":{\"title\":{\"text\":\"segment\"},\"tracegroupgap\":0},\"title\":{\"text\":\"Comparação de Todos os Tipos (Oldest vs Newest)\"},\"barmode\":\"group\"},                        {\"responsive\": true}                    ).then(function(){\n",
              "                            \n",
              "var gd = document.getElementById('2f529b1d-dcd0-4c6a-860a-26ab0ea51ad5');\n",
              "var x = new MutationObserver(function (mutations, observer) {{\n",
              "        var display = window.getComputedStyle(gd).display;\n",
              "        if (!display || display === 'none') {{\n",
              "            console.log([gd, 'removed!']);\n",
              "            Plotly.purge(gd);\n",
              "            observer.disconnect();\n",
              "        }}\n",
              "}});\n",
              "\n",
              "// Listen for the removal of the full notebook cells\n",
              "var notebookContainer = gd.closest('#notebook-container');\n",
              "if (notebookContainer) {{\n",
              "    x.observe(notebookContainer, {childList: true});\n",
              "}}\n",
              "\n",
              "// Listen for the clearing of the current output cell\n",
              "var outputEl = gd.closest('.output');\n",
              "if (outputEl) {{\n",
              "    x.observe(outputEl, {childList: true});\n",
              "}}\n",
              "\n",
              "                        })                };                            </script>        </div>\n",
              "</body>\n",
              "</html>"
            ]
          },
          "metadata": {},
          "output_type": "display_data"
        },
        {
          "data": {
            "application/vnd.jupyter.widget-view+json": {
              "model_id": "092a5617da9a49cca4fe37c5213840a3",
              "version_major": 2,
              "version_minor": 0
            },
            "text/plain": [
              "SelectMultiple(description='Filtrar Tipo:', index=(109,), layout=Layout(width='50%'), options=('APPLIANCE', 'A…"
            ]
          },
          "metadata": {},
          "output_type": "display_data"
        },
        {
          "data": {
            "application/vnd.jupyter.widget-view+json": {
              "model_id": "d8b6e0bce6724067b8a7ac9f76c394e9",
              "version_major": 2,
              "version_minor": 0
            },
            "text/plain": [
              "Button(description='Aplicar Filtro', style=ButtonStyle())"
            ]
          },
          "metadata": {},
          "output_type": "display_data"
        },
        {
          "data": {
            "application/vnd.jupyter.widget-view+json": {
              "model_id": "794a2210bd084981ab8b38cbc79c0b5c",
              "version_major": 2,
              "version_minor": 0
            },
            "text/plain": [
              "Output()"
            ]
          },
          "metadata": {},
          "output_type": "display_data"
        }
      ],
      "source": [
        "button = widgets.Button(description=\"Aplicar Filtro\")\n",
        "output = widgets.Output()\n",
        "\n",
        "fig_default.update_layout(xaxis_title=\"Complaint Type\", yaxis_title=\"Count\")\n",
        "fig_default.show()\n",
        "button.on_click(on_button_click)\n",
        "display(multi_select, button, output)"
      ]
    },
    {
      "cell_type": "markdown",
      "metadata": {
        "id": "Gz81CoqOjqAj"
      },
      "source": [
        "## 3. Análise Geral"
      ]
    },
    {
      "cell_type": "markdown",
      "metadata": {
        "id": "tZrgIX8jkpMC"
      },
      "source": [
        "A comparação dos primeiros 10 mil registros de reclamações e dos últimos 10 mil evidencia uma mudança significativa em diversos tipos de queixa ao longo do tempo. Observa-se que:\n",
        "\n",
        "- **Algumas categorias** praticamente não aparecem no conjunto antigo, mas despontam com intensidade no grupo mais recente.  \n",
        "- **Outras reclamações** permanecem relativamente constantes ou mesmo diminuem.  \n",
        "- É provável que **novas formas de categorização**, bem como a maior facilidade de registro tenham influenciado o volume de reclamações.  \n",
        "\n",
        "Destacam-se dois temas específicos que se sobressaem nessa comparação.\n",
        "\n",
        "\n",
        "### 1) Noise - Residential\n",
        "\n",
        "A reclamação de barulho residencial aparece com grande peso na parte mais recente dos dados. Possíveis motivos:\n",
        "\n",
        "- **Conscientização**: Mais pessoas podem estar cientes de que podem reportar incômodos sonoros à prefeitura.  \n",
        "- **Mudanças urbanas**: Áreas com maior densidade populacional ou crescimento de atividades noturnas tendem a gerar mais ruído.  \n",
        "- **Classificação aprimorada**: O sistema 311 pode ter passado a categorizar melhor o tipo de barulho, elevando oficialmente as estatísticas de “Noise - Residential”.\n",
        "\n",
        "\n",
        "### 2) Illegal Parking\n",
        "\n",
        "O aumento de reclamações referentes a estacionamento ilegal indica uma maior percepção desse problema por parte da população ou um real agravamento do trânsito. Fatores como:\n",
        "\n",
        "- **Frota de veículos em expansão**  \n",
        "- **Serviços de delivery e aplicativos**  \n",
        "- **Rotinas de trabalho flexíveis**\n"
      ]
    },
    {
      "cell_type": "markdown",
      "metadata": {
        "id": "DH74RTglncv3"
      },
      "source": [
        "## 4. Conclusão"
      ]
    },
    {
      "cell_type": "markdown",
      "metadata": {
        "id": "xuX_JE9angC_"
      },
      "source": [
        "A análise entre registros antigos e recentes revela tendências que podem ser exploradas em maior profundidade, considerando variáveis como localização, horários e sazonalidade. Compreender essas transformações ajuda a embasar políticas públicas e estratégias de fiscalização, além de orientar cidadãos e organizações comunitárias quanto aos problemas mais frequentes no ambiente."
      ]
    }
  ],
  "metadata": {
    "colab": {
      "provenance": []
    },
    "kernelspec": {
      "display_name": "Python 3",
      "name": "python3"
    },
    "language_info": {
      "name": "python"
    },
    "widgets": {
      "application/vnd.jupyter.widget-state+json": {
        "092a5617da9a49cca4fe37c5213840a3": {
          "model_module": "@jupyter-widgets/controls",
          "model_module_version": "1.5.0",
          "model_name": "SelectMultipleModel",
          "state": {
            "_dom_classes": [],
            "_model_module": "@jupyter-widgets/controls",
            "_model_module_version": "1.5.0",
            "_model_name": "SelectMultipleModel",
            "_options_labels": [
              "APPLIANCE",
              "Abandoned Bike",
              "Abandoned Vehicle",
              "Air Quality",
              "Alzheimer's Care",
              "Animal in a Park",
              "Animal-Abuse",
              "Asbestos",
              "BEST/Site Safety",
              "Bench",
              "Bike Rack",
              "Bike/Roller/Skate Chronic",
              "Blocked Driveway",
              "Boilers",
              "Bridge Condition",
              "Broken Muni Meter",
              "Broken Parking Meter",
              "Building/Use",
              "Bus Stop Shelter Complaint",
              "CONSTRUCTION",
              "Collection Truck Noise",
              "Commercial Disposal Complaint",
              "Construction Lead Dust",
              "Consumer Complaint",
              "Curb Condition",
              "DCA / DOH New License Application Request",
              "DHS Advantage - Tenant",
              "DHS Advantage -Landlord/Broker",
              "DOF Parking - Payment Issue",
              "DOF Parking - Request Copy",
              "DOF Property - Owner Issue",
              "DOF Property - Payment Issue",
              "DOF Property - Reduction Issue",
              "DOOR/WINDOW",
              "Damaged Tree",
              "Day Care",
              "Dead Animal",
              "Dead Tree",
              "Dead/Dying Tree",
              "Derelict Vehicle",
              "Derelict Vehicles",
              "Dirty Condition",
              "Dirty Conditions",
              "Disorderly Youth",
              "Drinking",
              "Drinking Water",
              "Drug Activity",
              "Dumpster Complaint",
              "E-Scooter",
              "ELECTRIC",
              "ELEVATOR",
              "Elder Abuse",
              "Electrical",
              "Elevator",
              "Emergency Response Team (ERT)",
              "Encampment",
              "Eviction",
              "FLOORING/STAIRS",
              "Ferry Inquiry",
              "Food Establishment",
              "Food Poisoning",
              "For Hire Vehicle Complaint",
              "For Hire Vehicle Report",
              "Found Property",
              "GENERAL",
              "GENERAL CONSTRUCTION",
              "General Construction/Plumbing",
              "Graffiti",
              "Green Taxi Complaint",
              "HEAT/HOT WATER",
              "HEATING",
              "HPD Literature Request",
              "Harboring Bees/Wasps",
              "Hazardous Materials",
              "Highway Condition",
              "Highway Sign - Dangling",
              "Home Delivered Meal - Missed Delivery",
              "Home Repair",
              "Homeless Encampment",
              "Homeless Person Assistance",
              "Housing Options",
              "Illegal Dumping",
              "Illegal Fireworks",
              "Illegal Parking",
              "Illegal Posting",
              "Illegal Tree Damage",
              "Indoor Air Quality",
              "Industrial Waste",
              "Investigations and Discipline (IAD)",
              "Lead",
              "LinkNYC",
              "Literature Request",
              "Litter Basket / Request",
              "Litter Basket Complaint",
              "Litter Basket Request",
              "Lost Property",
              "Lot Condition",
              "Maintenance or Facility",
              "Missed Collection",
              "Missed Collection (All Materials)",
              "Mobile Food Vendor",
              "Mold",
              "NONCONST",
              "New Tree Request",
              "Noise",
              "Noise - Commercial",
              "Noise - Helicopter",
              "Noise - House of Worship",
              "Noise - Park",
              "Noise - Residential",
              "Noise - Street/Sidewalk",
              "Noise - Vehicle",
              "Non-Emergency Police Matter",
              "Non-Residential Heat",
              "OEM Literature Request",
              "Obstruction",
              "Other Enforcement",
              "Outdoor Dining",
              "Overflowing Litter Baskets",
              "Overgrown Tree/Branches",
              "PAINT - PLASTER",
              "PAINT/PLASTER",
              "PLUMBING",
              "Panhandling",
              "Plant",
              "Plumbing",
              "Posting Advertisement",
              "Public Payphone Complaint",
              "Real Time Enforcement",
              "Recycling Enforcement",
              "Residential Disposal Complaint",
              "Rodent",
              "Root/Sewer/Sidewalk Condition",
              "SAFETY",
              "SCRIE",
              "Safety",
              "Sanitation Condition",
              "Sanitation Worker or Vehicle Complaint",
              "Scaffold Safety",
              "School Maintenance",
              "Sewer",
              "Sidewalk Condition",
              "Smoking",
              "Smoking or Vaping",
              "Snow",
              "Special Projects Inspection Team (SPIT)",
              "Street Condition",
              "Street Light Condition",
              "Street Sign - Damaged",
              "Street Sign - Dangling",
              "Street Sign - Missing",
              "Street Sweeping Complaint",
              "Tattooing",
              "Taxi Complaint",
              "Taxi Compliment",
              "Taxi Report",
              "Tobacco or Non-Tobacco Sale",
              "Traffic",
              "Traffic Signal Condition",
              "Traffic/Illegal Parking",
              "UNSANITARY CONDITION",
              "Unleashed Dog",
              "Unsanitary Animal Pvt Property",
              "Unsanitary Pigeon Condition",
              "Uprooted Stump",
              "Urinating in Public",
              "Utility Program",
              "Vacant Lot",
              "Vending",
              "Vendor Enforcement",
              "Violation of Park Rules",
              "WATER LEAK",
              "Water Conservation",
              "Water Quality",
              "Water System",
              "Window Guard"
            ],
            "_view_count": null,
            "_view_module": "@jupyter-widgets/controls",
            "_view_module_version": "1.5.0",
            "_view_name": "SelectMultipleView",
            "description": "Filtrar Tipo:",
            "description_tooltip": null,
            "disabled": false,
            "index": [
              109
            ],
            "layout": "IPY_MODEL_12adc030f5474564bdd9ef3f263d7a7c",
            "rows": 10,
            "style": "IPY_MODEL_12f680395036484ab776ff8959e4e27a"
          }
        },
        "12adc030f5474564bdd9ef3f263d7a7c": {
          "model_module": "@jupyter-widgets/base",
          "model_module_version": "1.2.0",
          "model_name": "LayoutModel",
          "state": {
            "_model_module": "@jupyter-widgets/base",
            "_model_module_version": "1.2.0",
            "_model_name": "LayoutModel",
            "_view_count": null,
            "_view_module": "@jupyter-widgets/base",
            "_view_module_version": "1.2.0",
            "_view_name": "LayoutView",
            "align_content": null,
            "align_items": null,
            "align_self": null,
            "border": null,
            "bottom": null,
            "display": null,
            "flex": null,
            "flex_flow": null,
            "grid_area": null,
            "grid_auto_columns": null,
            "grid_auto_flow": null,
            "grid_auto_rows": null,
            "grid_column": null,
            "grid_gap": null,
            "grid_row": null,
            "grid_template_areas": null,
            "grid_template_columns": null,
            "grid_template_rows": null,
            "height": null,
            "justify_content": null,
            "justify_items": null,
            "left": null,
            "margin": null,
            "max_height": null,
            "max_width": null,
            "min_height": null,
            "min_width": null,
            "object_fit": null,
            "object_position": null,
            "order": null,
            "overflow": null,
            "overflow_x": null,
            "overflow_y": null,
            "padding": null,
            "right": null,
            "top": null,
            "visibility": null,
            "width": "50%"
          }
        },
        "12f680395036484ab776ff8959e4e27a": {
          "model_module": "@jupyter-widgets/controls",
          "model_module_version": "1.5.0",
          "model_name": "DescriptionStyleModel",
          "state": {
            "_model_module": "@jupyter-widgets/controls",
            "_model_module_version": "1.5.0",
            "_model_name": "DescriptionStyleModel",
            "_view_count": null,
            "_view_module": "@jupyter-widgets/base",
            "_view_module_version": "1.2.0",
            "_view_name": "StyleView",
            "description_width": ""
          }
        },
        "18ea3f9e7f8e4de09dc0469ee6e4ee5e": {
          "model_module": "@jupyter-widgets/base",
          "model_module_version": "1.2.0",
          "model_name": "LayoutModel",
          "state": {
            "_model_module": "@jupyter-widgets/base",
            "_model_module_version": "1.2.0",
            "_model_name": "LayoutModel",
            "_view_count": null,
            "_view_module": "@jupyter-widgets/base",
            "_view_module_version": "1.2.0",
            "_view_name": "LayoutView",
            "align_content": null,
            "align_items": null,
            "align_self": null,
            "border": null,
            "bottom": null,
            "display": null,
            "flex": null,
            "flex_flow": null,
            "grid_area": null,
            "grid_auto_columns": null,
            "grid_auto_flow": null,
            "grid_auto_rows": null,
            "grid_column": null,
            "grid_gap": null,
            "grid_row": null,
            "grid_template_areas": null,
            "grid_template_columns": null,
            "grid_template_rows": null,
            "height": null,
            "justify_content": null,
            "justify_items": null,
            "left": null,
            "margin": null,
            "max_height": null,
            "max_width": null,
            "min_height": null,
            "min_width": null,
            "object_fit": null,
            "object_position": null,
            "order": null,
            "overflow": null,
            "overflow_x": null,
            "overflow_y": null,
            "padding": null,
            "right": null,
            "top": null,
            "visibility": null,
            "width": null
          }
        },
        "1fe77e37360a4680a196c5e96ff4f675": {
          "model_module": "@jupyter-widgets/base",
          "model_module_version": "1.2.0",
          "model_name": "LayoutModel",
          "state": {
            "_model_module": "@jupyter-widgets/base",
            "_model_module_version": "1.2.0",
            "_model_name": "LayoutModel",
            "_view_count": null,
            "_view_module": "@jupyter-widgets/base",
            "_view_module_version": "1.2.0",
            "_view_name": "LayoutView",
            "align_content": null,
            "align_items": null,
            "align_self": null,
            "border": null,
            "bottom": null,
            "display": null,
            "flex": null,
            "flex_flow": null,
            "grid_area": null,
            "grid_auto_columns": null,
            "grid_auto_flow": null,
            "grid_auto_rows": null,
            "grid_column": null,
            "grid_gap": null,
            "grid_row": null,
            "grid_template_areas": null,
            "grid_template_columns": null,
            "grid_template_rows": null,
            "height": null,
            "justify_content": null,
            "justify_items": null,
            "left": null,
            "margin": null,
            "max_height": null,
            "max_width": null,
            "min_height": null,
            "min_width": null,
            "object_fit": null,
            "object_position": null,
            "order": null,
            "overflow": null,
            "overflow_x": null,
            "overflow_y": null,
            "padding": null,
            "right": null,
            "top": null,
            "visibility": null,
            "width": null
          }
        },
        "5b2bfb61477a49a4a8861806d600039c": {
          "model_module": "@jupyter-widgets/controls",
          "model_module_version": "1.5.0",
          "model_name": "ButtonStyleModel",
          "state": {
            "_model_module": "@jupyter-widgets/controls",
            "_model_module_version": "1.5.0",
            "_model_name": "ButtonStyleModel",
            "_view_count": null,
            "_view_module": "@jupyter-widgets/base",
            "_view_module_version": "1.2.0",
            "_view_name": "StyleView",
            "button_color": null,
            "font_weight": ""
          }
        },
        "794a2210bd084981ab8b38cbc79c0b5c": {
          "model_module": "@jupyter-widgets/output",
          "model_module_version": "1.0.0",
          "model_name": "OutputModel",
          "state": {
            "_dom_classes": [],
            "_model_module": "@jupyter-widgets/output",
            "_model_module_version": "1.0.0",
            "_model_name": "OutputModel",
            "_view_count": null,
            "_view_module": "@jupyter-widgets/output",
            "_view_module_version": "1.0.0",
            "_view_name": "OutputView",
            "layout": "IPY_MODEL_1fe77e37360a4680a196c5e96ff4f675",
            "msg_id": "",
            "outputs": [
              {
                "data": {
                  "text/html": "<html>\n<head><meta charset=\"utf-8\" /></head>\n<body>\n    <div>            <script src=\"https://cdnjs.cloudflare.com/ajax/libs/mathjax/2.7.5/MathJax.js?config=TeX-AMS-MML_SVG\"></script><script type=\"text/javascript\">if (window.MathJax && window.MathJax.Hub && window.MathJax.Hub.Config) {window.MathJax.Hub.Config({SVG: {font: \"STIX-Web\"}});}</script>                <script type=\"text/javascript\">window.PlotlyConfig = {MathJaxConfig: 'local'};</script>\n        <script charset=\"utf-8\" src=\"https://cdn.plot.ly/plotly-2.35.2.min.js\"></script>                <div id=\"70097058-150d-4786-8552-0950e8457a9b\" class=\"plotly-graph-div\" style=\"height:525px; width:100%;\"></div>            <script type=\"text/javascript\">                                    window.PLOTLYENV=window.PLOTLYENV || {};                                    if (document.getElementById(\"70097058-150d-4786-8552-0950e8457a9b\")) {                    Plotly.newPlot(                        \"70097058-150d-4786-8552-0950e8457a9b\",                        [{\"alignmentgroup\":\"True\",\"hovertemplate\":\"segment=newest\\u003cbr\\u003ecomplaint_type=%{x}\\u003cbr\\u003ecount=%{y}\\u003cextra\\u003e\\u003c\\u002fextra\\u003e\",\"legendgroup\":\"newest\",\"marker\":{\"color\":\"#636efa\",\"pattern\":{\"shape\":\"\"}},\"name\":\"newest\",\"offsetgroup\":\"newest\",\"orientation\":\"v\",\"showlegend\":true,\"textposition\":\"auto\",\"x\":[\"Noise - Residential\"],\"xaxis\":\"x\",\"y\":[1025],\"yaxis\":\"y\",\"type\":\"bar\"},{\"alignmentgroup\":\"True\",\"hovertemplate\":\"segment=oldest\\u003cbr\\u003ecomplaint_type=%{x}\\u003cbr\\u003ecount=%{y}\\u003cextra\\u003e\\u003c\\u002fextra\\u003e\",\"legendgroup\":\"oldest\",\"marker\":{\"color\":\"#EF553B\",\"pattern\":{\"shape\":\"\"}},\"name\":\"oldest\",\"offsetgroup\":\"oldest\",\"orientation\":\"v\",\"showlegend\":true,\"textposition\":\"auto\",\"x\":[\"Noise - Residential\"],\"xaxis\":\"x\",\"y\":[936],\"yaxis\":\"y\",\"type\":\"bar\"}],                        {\"template\":{\"data\":{\"histogram2dcontour\":[{\"type\":\"histogram2dcontour\",\"colorbar\":{\"outlinewidth\":0,\"ticks\":\"\"},\"colorscale\":[[0.0,\"#0d0887\"],[0.1111111111111111,\"#46039f\"],[0.2222222222222222,\"#7201a8\"],[0.3333333333333333,\"#9c179e\"],[0.4444444444444444,\"#bd3786\"],[0.5555555555555556,\"#d8576b\"],[0.6666666666666666,\"#ed7953\"],[0.7777777777777778,\"#fb9f3a\"],[0.8888888888888888,\"#fdca26\"],[1.0,\"#f0f921\"]]}],\"choropleth\":[{\"type\":\"choropleth\",\"colorbar\":{\"outlinewidth\":0,\"ticks\":\"\"}}],\"histogram2d\":[{\"type\":\"histogram2d\",\"colorbar\":{\"outlinewidth\":0,\"ticks\":\"\"},\"colorscale\":[[0.0,\"#0d0887\"],[0.1111111111111111,\"#46039f\"],[0.2222222222222222,\"#7201a8\"],[0.3333333333333333,\"#9c179e\"],[0.4444444444444444,\"#bd3786\"],[0.5555555555555556,\"#d8576b\"],[0.6666666666666666,\"#ed7953\"],[0.7777777777777778,\"#fb9f3a\"],[0.8888888888888888,\"#fdca26\"],[1.0,\"#f0f921\"]]}],\"heatmap\":[{\"type\":\"heatmap\",\"colorbar\":{\"outlinewidth\":0,\"ticks\":\"\"},\"colorscale\":[[0.0,\"#0d0887\"],[0.1111111111111111,\"#46039f\"],[0.2222222222222222,\"#7201a8\"],[0.3333333333333333,\"#9c179e\"],[0.4444444444444444,\"#bd3786\"],[0.5555555555555556,\"#d8576b\"],[0.6666666666666666,\"#ed7953\"],[0.7777777777777778,\"#fb9f3a\"],[0.8888888888888888,\"#fdca26\"],[1.0,\"#f0f921\"]]}],\"heatmapgl\":[{\"type\":\"heatmapgl\",\"colorbar\":{\"outlinewidth\":0,\"ticks\":\"\"},\"colorscale\":[[0.0,\"#0d0887\"],[0.1111111111111111,\"#46039f\"],[0.2222222222222222,\"#7201a8\"],[0.3333333333333333,\"#9c179e\"],[0.4444444444444444,\"#bd3786\"],[0.5555555555555556,\"#d8576b\"],[0.6666666666666666,\"#ed7953\"],[0.7777777777777778,\"#fb9f3a\"],[0.8888888888888888,\"#fdca26\"],[1.0,\"#f0f921\"]]}],\"contourcarpet\":[{\"type\":\"contourcarpet\",\"colorbar\":{\"outlinewidth\":0,\"ticks\":\"\"}}],\"contour\":[{\"type\":\"contour\",\"colorbar\":{\"outlinewidth\":0,\"ticks\":\"\"},\"colorscale\":[[0.0,\"#0d0887\"],[0.1111111111111111,\"#46039f\"],[0.2222222222222222,\"#7201a8\"],[0.3333333333333333,\"#9c179e\"],[0.4444444444444444,\"#bd3786\"],[0.5555555555555556,\"#d8576b\"],[0.6666666666666666,\"#ed7953\"],[0.7777777777777778,\"#fb9f3a\"],[0.8888888888888888,\"#fdca26\"],[1.0,\"#f0f921\"]]}],\"surface\":[{\"type\":\"surface\",\"colorbar\":{\"outlinewidth\":0,\"ticks\":\"\"},\"colorscale\":[[0.0,\"#0d0887\"],[0.1111111111111111,\"#46039f\"],[0.2222222222222222,\"#7201a8\"],[0.3333333333333333,\"#9c179e\"],[0.4444444444444444,\"#bd3786\"],[0.5555555555555556,\"#d8576b\"],[0.6666666666666666,\"#ed7953\"],[0.7777777777777778,\"#fb9f3a\"],[0.8888888888888888,\"#fdca26\"],[1.0,\"#f0f921\"]]}],\"mesh3d\":[{\"type\":\"mesh3d\",\"colorbar\":{\"outlinewidth\":0,\"ticks\":\"\"}}],\"scatter\":[{\"fillpattern\":{\"fillmode\":\"overlay\",\"size\":10,\"solidity\":0.2},\"type\":\"scatter\"}],\"parcoords\":[{\"type\":\"parcoords\",\"line\":{\"colorbar\":{\"outlinewidth\":0,\"ticks\":\"\"}}}],\"scatterpolargl\":[{\"type\":\"scatterpolargl\",\"marker\":{\"colorbar\":{\"outlinewidth\":0,\"ticks\":\"\"}}}],\"bar\":[{\"error_x\":{\"color\":\"#2a3f5f\"},\"error_y\":{\"color\":\"#2a3f5f\"},\"marker\":{\"line\":{\"color\":\"#E5ECF6\",\"width\":0.5},\"pattern\":{\"fillmode\":\"overlay\",\"size\":10,\"solidity\":0.2}},\"type\":\"bar\"}],\"scattergeo\":[{\"type\":\"scattergeo\",\"marker\":{\"colorbar\":{\"outlinewidth\":0,\"ticks\":\"\"}}}],\"scatterpolar\":[{\"type\":\"scatterpolar\",\"marker\":{\"colorbar\":{\"outlinewidth\":0,\"ticks\":\"\"}}}],\"histogram\":[{\"marker\":{\"pattern\":{\"fillmode\":\"overlay\",\"size\":10,\"solidity\":0.2}},\"type\":\"histogram\"}],\"scattergl\":[{\"type\":\"scattergl\",\"marker\":{\"colorbar\":{\"outlinewidth\":0,\"ticks\":\"\"}}}],\"scatter3d\":[{\"type\":\"scatter3d\",\"line\":{\"colorbar\":{\"outlinewidth\":0,\"ticks\":\"\"}},\"marker\":{\"colorbar\":{\"outlinewidth\":0,\"ticks\":\"\"}}}],\"scattermapbox\":[{\"type\":\"scattermapbox\",\"marker\":{\"colorbar\":{\"outlinewidth\":0,\"ticks\":\"\"}}}],\"scatterternary\":[{\"type\":\"scatterternary\",\"marker\":{\"colorbar\":{\"outlinewidth\":0,\"ticks\":\"\"}}}],\"scattercarpet\":[{\"type\":\"scattercarpet\",\"marker\":{\"colorbar\":{\"outlinewidth\":0,\"ticks\":\"\"}}}],\"carpet\":[{\"aaxis\":{\"endlinecolor\":\"#2a3f5f\",\"gridcolor\":\"white\",\"linecolor\":\"white\",\"minorgridcolor\":\"white\",\"startlinecolor\":\"#2a3f5f\"},\"baxis\":{\"endlinecolor\":\"#2a3f5f\",\"gridcolor\":\"white\",\"linecolor\":\"white\",\"minorgridcolor\":\"white\",\"startlinecolor\":\"#2a3f5f\"},\"type\":\"carpet\"}],\"table\":[{\"cells\":{\"fill\":{\"color\":\"#EBF0F8\"},\"line\":{\"color\":\"white\"}},\"header\":{\"fill\":{\"color\":\"#C8D4E3\"},\"line\":{\"color\":\"white\"}},\"type\":\"table\"}],\"barpolar\":[{\"marker\":{\"line\":{\"color\":\"#E5ECF6\",\"width\":0.5},\"pattern\":{\"fillmode\":\"overlay\",\"size\":10,\"solidity\":0.2}},\"type\":\"barpolar\"}],\"pie\":[{\"automargin\":true,\"type\":\"pie\"}]},\"layout\":{\"autotypenumbers\":\"strict\",\"colorway\":[\"#636efa\",\"#EF553B\",\"#00cc96\",\"#ab63fa\",\"#FFA15A\",\"#19d3f3\",\"#FF6692\",\"#B6E880\",\"#FF97FF\",\"#FECB52\"],\"font\":{\"color\":\"#2a3f5f\"},\"hovermode\":\"closest\",\"hoverlabel\":{\"align\":\"left\"},\"paper_bgcolor\":\"white\",\"plot_bgcolor\":\"#E5ECF6\",\"polar\":{\"bgcolor\":\"#E5ECF6\",\"angularaxis\":{\"gridcolor\":\"white\",\"linecolor\":\"white\",\"ticks\":\"\"},\"radialaxis\":{\"gridcolor\":\"white\",\"linecolor\":\"white\",\"ticks\":\"\"}},\"ternary\":{\"bgcolor\":\"#E5ECF6\",\"aaxis\":{\"gridcolor\":\"white\",\"linecolor\":\"white\",\"ticks\":\"\"},\"baxis\":{\"gridcolor\":\"white\",\"linecolor\":\"white\",\"ticks\":\"\"},\"caxis\":{\"gridcolor\":\"white\",\"linecolor\":\"white\",\"ticks\":\"\"}},\"coloraxis\":{\"colorbar\":{\"outlinewidth\":0,\"ticks\":\"\"}},\"colorscale\":{\"sequential\":[[0.0,\"#0d0887\"],[0.1111111111111111,\"#46039f\"],[0.2222222222222222,\"#7201a8\"],[0.3333333333333333,\"#9c179e\"],[0.4444444444444444,\"#bd3786\"],[0.5555555555555556,\"#d8576b\"],[0.6666666666666666,\"#ed7953\"],[0.7777777777777778,\"#fb9f3a\"],[0.8888888888888888,\"#fdca26\"],[1.0,\"#f0f921\"]],\"sequentialminus\":[[0.0,\"#0d0887\"],[0.1111111111111111,\"#46039f\"],[0.2222222222222222,\"#7201a8\"],[0.3333333333333333,\"#9c179e\"],[0.4444444444444444,\"#bd3786\"],[0.5555555555555556,\"#d8576b\"],[0.6666666666666666,\"#ed7953\"],[0.7777777777777778,\"#fb9f3a\"],[0.8888888888888888,\"#fdca26\"],[1.0,\"#f0f921\"]],\"diverging\":[[0,\"#8e0152\"],[0.1,\"#c51b7d\"],[0.2,\"#de77ae\"],[0.3,\"#f1b6da\"],[0.4,\"#fde0ef\"],[0.5,\"#f7f7f7\"],[0.6,\"#e6f5d0\"],[0.7,\"#b8e186\"],[0.8,\"#7fbc41\"],[0.9,\"#4d9221\"],[1,\"#276419\"]]},\"xaxis\":{\"gridcolor\":\"white\",\"linecolor\":\"white\",\"ticks\":\"\",\"title\":{\"standoff\":15},\"zerolinecolor\":\"white\",\"automargin\":true,\"zerolinewidth\":2},\"yaxis\":{\"gridcolor\":\"white\",\"linecolor\":\"white\",\"ticks\":\"\",\"title\":{\"standoff\":15},\"zerolinecolor\":\"white\",\"automargin\":true,\"zerolinewidth\":2},\"scene\":{\"xaxis\":{\"backgroundcolor\":\"#E5ECF6\",\"gridcolor\":\"white\",\"linecolor\":\"white\",\"showbackground\":true,\"ticks\":\"\",\"zerolinecolor\":\"white\",\"gridwidth\":2},\"yaxis\":{\"backgroundcolor\":\"#E5ECF6\",\"gridcolor\":\"white\",\"linecolor\":\"white\",\"showbackground\":true,\"ticks\":\"\",\"zerolinecolor\":\"white\",\"gridwidth\":2},\"zaxis\":{\"backgroundcolor\":\"#E5ECF6\",\"gridcolor\":\"white\",\"linecolor\":\"white\",\"showbackground\":true,\"ticks\":\"\",\"zerolinecolor\":\"white\",\"gridwidth\":2}},\"shapedefaults\":{\"line\":{\"color\":\"#2a3f5f\"}},\"annotationdefaults\":{\"arrowcolor\":\"#2a3f5f\",\"arrowhead\":0,\"arrowwidth\":1},\"geo\":{\"bgcolor\":\"white\",\"landcolor\":\"#E5ECF6\",\"subunitcolor\":\"white\",\"showland\":true,\"showlakes\":true,\"lakecolor\":\"white\"},\"title\":{\"x\":0.05},\"mapbox\":{\"style\":\"light\"}}},\"xaxis\":{\"anchor\":\"y\",\"domain\":[0.0,1.0],\"title\":{\"text\":\"Complaint Type\"}},\"yaxis\":{\"anchor\":\"x\",\"domain\":[0.0,1.0],\"title\":{\"text\":\"Count\"}},\"legend\":{\"title\":{\"text\":\"segment\"},\"tracegroupgap\":0},\"title\":{\"text\":\"Comparação Filtrada (Oldest vs Newest)\"},\"barmode\":\"group\"},                        {\"responsive\": true}                    ).then(function(){\n                            \nvar gd = document.getElementById('70097058-150d-4786-8552-0950e8457a9b');\nvar x = new MutationObserver(function (mutations, observer) {{\n        var display = window.getComputedStyle(gd).display;\n        if (!display || display === 'none') {{\n            console.log([gd, 'removed!']);\n            Plotly.purge(gd);\n            observer.disconnect();\n        }}\n}});\n\n// Listen for the removal of the full notebook cells\nvar notebookContainer = gd.closest('#notebook-container');\nif (notebookContainer) {{\n    x.observe(notebookContainer, {childList: true});\n}}\n\n// Listen for the clearing of the current output cell\nvar outputEl = gd.closest('.output');\nif (outputEl) {{\n    x.observe(outputEl, {childList: true});\n}}\n\n                        })                };                            </script>        </div>\n</body>\n</html>"
                },
                "metadata": {},
                "output_type": "display_data"
              }
            ]
          }
        },
        "d8b6e0bce6724067b8a7ac9f76c394e9": {
          "model_module": "@jupyter-widgets/controls",
          "model_module_version": "1.5.0",
          "model_name": "ButtonModel",
          "state": {
            "_dom_classes": [],
            "_model_module": "@jupyter-widgets/controls",
            "_model_module_version": "1.5.0",
            "_model_name": "ButtonModel",
            "_view_count": null,
            "_view_module": "@jupyter-widgets/controls",
            "_view_module_version": "1.5.0",
            "_view_name": "ButtonView",
            "button_style": "",
            "description": "Aplicar Filtro",
            "disabled": false,
            "icon": "",
            "layout": "IPY_MODEL_18ea3f9e7f8e4de09dc0469ee6e4ee5e",
            "style": "IPY_MODEL_5b2bfb61477a49a4a8861806d600039c",
            "tooltip": ""
          }
        }
      }
    }
  },
  "nbformat": 4,
  "nbformat_minor": 0
}
